{
 "cells": [
  {
   "cell_type": "markdown",
   "metadata": {},
   "source": [
    "# SMS Spammer (Калинка Георгий 14321 ПИ) [2. Программа для обработки]"
   ]
  },
  {
   "cell_type": "markdown",
   "metadata": {
    "id": "CxqIcHeR1YnI"
   },
   "source": [
    "## Импорт библиотек"
   ]
  },
  {
   "cell_type": "code",
   "execution_count": null,
   "metadata": {
    "id": "vcGM6tHZd-1r"
   },
   "outputs": [],
   "source": [
    "import pickle\n",
    "\n",
    "from classifier_bag_words import classifier_bag_words\n"
   ]
  },
  {
   "cell_type": "markdown",
   "metadata": {},
   "source": [
    "## Загрузка модели"
   ]
  },
  {
   "cell_type": "code",
   "execution_count": null,
   "metadata": {},
   "outputs": [],
   "source": [
    "with open(\"models/finalized_model.obj\", \"rb\") as f:\n",
    "    vectorizer = pickle.load(f)\n"
   ]
  },
  {
   "cell_type": "markdown",
   "metadata": {},
   "source": [
    "## Проверка модели\n",
    "Чтобы выйти из ввода сообщение напишите -1"
   ]
  },
  {
   "cell_type": "code",
   "execution_count": null,
   "metadata": {},
   "outputs": [],
   "source": [
    "while True:\n",
    "    input_text = input()\n",
    "    if (input_text == \"-1\"):\n",
    "        break\n",
    "\n",
    "    predictions = vectorizer.predict([list(input_text)])[0]\n",
    "    print(predictions)\n"
   ]
  }
 ],
 "metadata": {
  "interpreter": {
   "hash": "21e6d95f5cf0b37252703686e7a92c4c0feeda7546d2d668c3f419fd415b3df2"
  },
  "kernelspec": {
   "display_name": "Python 3.9.7 64-bit ('py39': conda)",
   "language": "python",
   "name": "python3"
  },
  "language_info": {
   "codemirror_mode": {
    "name": "ipython",
    "version": 3
   },
   "file_extension": ".py",
   "mimetype": "text/x-python",
   "name": "python",
   "nbconvert_exporter": "python",
   "pygments_lexer": "ipython3",
   "version": "3.9.7"
  },
  "orig_nbformat": 4
 },
 "nbformat": 4,
 "nbformat_minor": 2
}
