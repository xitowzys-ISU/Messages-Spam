{
  "cells": [
    {
      "cell_type": "markdown",
      "metadata": {
        "id": "gnjElPvcguOB"
      },
      "source": [
        "# SMS Spammer (Калинка Георгий 14321 ПИ)"
      ]
    },
    {
      "cell_type": "markdown",
      "metadata": {
        "id": "CxqIcHeR1YnI"
      },
      "source": [
        "## Импорт библиотек"
      ]
    },
    {
      "cell_type": "code",
      "execution_count": 13,
      "metadata": {
        "id": "vcGM6tHZd-1r"
      },
      "outputs": [],
      "source": [
        "import re\n",
        "import nltk\n",
        "import gzip\n",
        "import pickle\n",
        "import pandas as pd\n",
        "\n",
        "from sklearn.pipeline import Pipeline\n",
        "from sklearn.metrics import accuracy_score, classification_report\n",
        "from sklearn.model_selection import train_test_split\n",
        "from sklearn.naive_bayes import MultinomialNB, ComplementNB\n",
        "from sklearn.feature_extraction.text import CountVectorizer, TfidfTransformer\n"
      ]
    },
    {
      "cell_type": "code",
      "execution_count": null,
      "metadata": {
        "colab": {
          "base_uri": "https://localhost:8080/"
        },
        "id": "di-Sh8Oqv74n",
        "outputId": "bb2f095e-db3a-4974-d42e-97d98207cc80"
      },
      "outputs": [
        {
          "name": "stderr",
          "output_type": "stream",
          "text": [
            "[nltk_data] Downloading package stopwords to\n",
            "[nltk_data]     /Users/xitowzys/nltk_data...\n",
            "[nltk_data]   Package stopwords is already up-to-date!\n"
          ]
        },
        {
          "data": {
            "text/plain": [
              "True"
            ]
          },
          "execution_count": 79,
          "metadata": {},
          "output_type": "execute_result"
        }
      ],
      "source": [
        "nltk.download('stopwords')\n"
      ]
    },
    {
      "cell_type": "code",
      "execution_count": null,
      "metadata": {},
      "outputs": [],
      "source": [
        "data = gzip.open(\"./data/SMSSpamCollection.txt.train.gz\", \"rb\")\n",
        "text = data.read()\n",
        "data.close()\n",
        "file = open('./data/SMSSpamCollection.txt.train', 'wb')\n",
        "file.write(text)\n",
        "file.close()\n"
      ]
    },
    {
      "cell_type": "markdown",
      "metadata": {
        "id": "Z8Mfcb0zpm2Z"
      },
      "source": [
        "## 1. Просмотр данных через Pandas\n",
        "\n",
        "---\n",
        "\n"
      ]
    },
    {
      "cell_type": "code",
      "execution_count": null,
      "metadata": {
        "id": "fULpQLXjeTh1"
      },
      "outputs": [],
      "source": [
        "messages = pd.read_csv(\"./data/SMSSpamCollection.txt.train\", sep='\\t', names=[\"label\", \"message\"])\n"
      ]
    },
    {
      "cell_type": "code",
      "execution_count": null,
      "metadata": {
        "colab": {
          "base_uri": "https://localhost:8080/",
          "height": 204
        },
        "id": "3hnBpbRcepqy",
        "outputId": "ffdfcac0-0d97-4838-be31-caa8c1777f9b"
      },
      "outputs": [
        {
          "data": {
            "text/html": [
              "<div>\n",
              "<style scoped>\n",
              "    .dataframe tbody tr th:only-of-type {\n",
              "        vertical-align: middle;\n",
              "    }\n",
              "\n",
              "    .dataframe tbody tr th {\n",
              "        vertical-align: top;\n",
              "    }\n",
              "\n",
              "    .dataframe thead th {\n",
              "        text-align: right;\n",
              "    }\n",
              "</style>\n",
              "<table border=\"1\" class=\"dataframe\">\n",
              "  <thead>\n",
              "    <tr style=\"text-align: right;\">\n",
              "      <th></th>\n",
              "      <th>label</th>\n",
              "      <th>message</th>\n",
              "    </tr>\n",
              "  </thead>\n",
              "  <tbody>\n",
              "    <tr>\n",
              "      <th>0</th>\n",
              "      <td>ham</td>\n",
              "      <td>Go until jurong point, crazy.. Available only ...</td>\n",
              "    </tr>\n",
              "    <tr>\n",
              "      <th>1</th>\n",
              "      <td>ham</td>\n",
              "      <td>Ok lar... Joking wif u oni...</td>\n",
              "    </tr>\n",
              "    <tr>\n",
              "      <th>2</th>\n",
              "      <td>spam</td>\n",
              "      <td>Free entry in 2 a wkly comp to win FA Cup fina...</td>\n",
              "    </tr>\n",
              "    <tr>\n",
              "      <th>3</th>\n",
              "      <td>ham</td>\n",
              "      <td>U dun say so early hor... U c already then say...</td>\n",
              "    </tr>\n",
              "    <tr>\n",
              "      <th>4</th>\n",
              "      <td>ham</td>\n",
              "      <td>Nah I don't think he goes to usf, he lives aro...</td>\n",
              "    </tr>\n",
              "  </tbody>\n",
              "</table>\n",
              "</div>"
            ],
            "text/plain": [
              "  label                                            message\n",
              "0   ham  Go until jurong point, crazy.. Available only ...\n",
              "1   ham                      Ok lar... Joking wif u oni...\n",
              "2  spam  Free entry in 2 a wkly comp to win FA Cup fina...\n",
              "3   ham  U dun say so early hor... U c already then say...\n",
              "4   ham  Nah I don't think he goes to usf, he lives aro..."
            ]
          },
          "execution_count": 82,
          "metadata": {},
          "output_type": "execute_result"
        }
      ],
      "source": [
        "messages.head()\n"
      ]
    },
    {
      "cell_type": "code",
      "execution_count": null,
      "metadata": {
        "colab": {
          "base_uri": "https://localhost:8080/",
          "height": 173
        },
        "id": "3ouMhhjvfDuD",
        "outputId": "6b72cf7f-b670-482c-9cd8-3761deb27a58"
      },
      "outputs": [
        {
          "data": {
            "text/html": [
              "<div>\n",
              "<style scoped>\n",
              "    .dataframe tbody tr th:only-of-type {\n",
              "        vertical-align: middle;\n",
              "    }\n",
              "\n",
              "    .dataframe tbody tr th {\n",
              "        vertical-align: top;\n",
              "    }\n",
              "\n",
              "    .dataframe thead tr th {\n",
              "        text-align: left;\n",
              "    }\n",
              "\n",
              "    .dataframe thead tr:last-of-type th {\n",
              "        text-align: right;\n",
              "    }\n",
              "</style>\n",
              "<table border=\"1\" class=\"dataframe\">\n",
              "  <thead>\n",
              "    <tr>\n",
              "      <th></th>\n",
              "      <th colspan=\"4\" halign=\"left\">message</th>\n",
              "    </tr>\n",
              "    <tr>\n",
              "      <th></th>\n",
              "      <th>count</th>\n",
              "      <th>unique</th>\n",
              "      <th>top</th>\n",
              "      <th>freq</th>\n",
              "    </tr>\n",
              "    <tr>\n",
              "      <th>label</th>\n",
              "      <th></th>\n",
              "      <th></th>\n",
              "      <th></th>\n",
              "      <th></th>\n",
              "    </tr>\n",
              "  </thead>\n",
              "  <tbody>\n",
              "    <tr>\n",
              "      <th>ham</th>\n",
              "      <td>4327</td>\n",
              "      <td>4068</td>\n",
              "      <td>Sorry, I'll call later</td>\n",
              "      <td>26</td>\n",
              "    </tr>\n",
              "    <tr>\n",
              "      <th>spam</th>\n",
              "      <td>673</td>\n",
              "      <td>593</td>\n",
              "      <td>Please call our customer service representativ...</td>\n",
              "      <td>4</td>\n",
              "    </tr>\n",
              "  </tbody>\n",
              "</table>\n",
              "</div>"
            ],
            "text/plain": [
              "      message                                                               \n",
              "        count unique                                                top freq\n",
              "label                                                                       \n",
              "ham      4327   4068                             Sorry, I'll call later   26\n",
              "spam      673    593  Please call our customer service representativ...    4"
            ]
          },
          "execution_count": 83,
          "metadata": {},
          "output_type": "execute_result"
        }
      ],
      "source": [
        "messages.groupby('label').describe()\n"
      ]
    },
    {
      "cell_type": "markdown",
      "metadata": {
        "id": "8QHZi8rFqO2U"
      },
      "source": [
        "## 2. Преобразуем данные"
      ]
    },
    {
      "cell_type": "code",
      "execution_count": null,
      "metadata": {
        "id": "q-rXfs54hTnG"
      },
      "outputs": [],
      "source": [
        "def classifier_bag_words(mess):\n",
        "    messages_no_punctuation = []\n",
        "    messages_classifier = []\n",
        "\n",
        "    # Удалить ненужные символы, цифры и знаки препинания\n",
        "    for line in mess:\n",
        "        if line:\n",
        "            messages_no_punctuation.append(re.sub('[^A-Za-z]', ' ', line))\n",
        "\n",
        "    # Соединяем символы\n",
        "    messages_no_punctuation = ''.join(messages_no_punctuation)\n",
        "\n",
        "    # Делаем слова строчными\n",
        "    messages_no_punctuation = messages_no_punctuation.lower()\n",
        "\n",
        "    # Удаляем стоп-слова из списка\n",
        "    for word in messages_no_punctuation.split():\n",
        "        messages_classifier.append(word)\n",
        "\n",
        "    for word in messages_classifier:\n",
        "        if word in nltk.corpus.stopwords.words('english'):\n",
        "            messages_classifier.remove(word)\n",
        "\n",
        "    return messages_classifier\n"
      ]
    },
    {
      "cell_type": "code",
      "execution_count": null,
      "metadata": {
        "colab": {
          "base_uri": "https://localhost:8080/"
        },
        "id": "qmZEpSbZqMJH",
        "outputId": "526ea155-4ece-48eb-97c0-544a7c1ed485"
      },
      "outputs": [
        {
          "data": {
            "text/plain": [
              "0    [go, jurong, point, crazy, available, in, bugi...\n",
              "1                       [ok, lar, joking, wif, u, oni]\n",
              "2    [free, entry, a, wkly, comp, win, fa, cup, fin...\n",
              "3        [u, dun, say, early, hor, u, c, already, say]\n",
              "4    [nah, don, think, goes, usf, lives, around, th...\n",
              "Name: message, dtype: object"
            ]
          },
          "execution_count": 85,
          "metadata": {},
          "output_type": "execute_result"
        }
      ],
      "source": [
        "# Проверка classifier_bag_words\n",
        "messages['message'].head().apply(classifier_bag_words)\n"
      ]
    },
    {
      "cell_type": "markdown",
      "metadata": {
        "id": "IO5cMuaLRBPN"
      },
      "source": [
        "## 3. Обучение"
      ]
    },
    {
      "cell_type": "code",
      "execution_count": 86,
      "metadata": {
        "colab": {
          "base_uri": "https://localhost:8080/"
        },
        "id": "QQk0TvY_RCum",
        "outputId": "9ec51069-ae05-46fa-eb11-8f48344ed950"
      },
      "outputs": [
        {
          "name": "stdout",
          "output_type": "stream",
          "text": [
            "4000 1000 5000\n"
          ]
        },
        {
          "data": {
            "text/plain": [
              "Pipeline(steps=[('bow',\n",
              "                 CountVectorizer(analyzer=<function classifier_bag_words at 0x7ff051672040>)),\n",
              "                ('tidf', TfidfTransformer()), ('classifier', ComplementNB())])"
            ]
          },
          "execution_count": 86,
          "metadata": {},
          "output_type": "execute_result"
        }
      ],
      "source": [
        "X_train, x_test, Y_train, y_test = train_test_split(\n",
        "    messages['message'], messages['label'], test_size=0.2)\n",
        "print(len(X_train), len(x_test), len(X_train) + len(x_test))\n",
        "\n",
        "\n",
        "pipeline = Pipeline([\n",
        "    ('bow', CountVectorizer(analyzer=classifier_bag_words)),\n",
        "    ('tidf', TfidfTransformer()),\n",
        "    ('classifier', ComplementNB())\n",
        "])\n",
        "\n",
        "pipeline.fit(X_train, Y_train)\n"
      ]
    },
    {
      "cell_type": "code",
      "execution_count": 87,
      "metadata": {
        "id": "5NldLecTRh7d"
      },
      "outputs": [],
      "source": [
        "predictions = pipeline.predict(x_test)\n"
      ]
    },
    {
      "cell_type": "markdown",
      "metadata": {
        "id": "R9b3BbI2cLBN"
      },
      "source": [
        "## 4. Результат работы нейронной сети"
      ]
    },
    {
      "cell_type": "code",
      "execution_count": 88,
      "metadata": {
        "colab": {
          "base_uri": "https://localhost:8080/"
        },
        "id": "sRUsrFSxRnZ3",
        "outputId": "cb78f81f-10f6-40b8-f328-bf2160d6a9ce"
      },
      "outputs": [
        {
          "name": "stdout",
          "output_type": "stream",
          "text": [
            "Accuracy:  0.971\n"
          ]
        }
      ],
      "source": [
        "print('Accuracy: ', format(accuracy_score(y_test, predictions)))\n"
      ]
    },
    {
      "cell_type": "markdown",
      "metadata": {},
      "source": [
        "## 5. Сохранение нейронной сети"
      ]
    },
    {
      "cell_type": "code",
      "execution_count": 15,
      "metadata": {},
      "outputs": [],
      "source": [
        "# save the model to disk\n",
        "filename = './models/finalized_model.obj'\n",
        "pickle.dump(pipeline, open(filename, 'wb'))"
      ]
    }
  ],
  "metadata": {
    "colab": {
      "collapsed_sections": [
        "Z8Mfcb0zpm2Z",
        "8QHZi8rFqO2U"
      ],
      "name": "Искусственный интеллект SMS Spammer.ipynb",
      "provenance": []
    },
    "kernelspec": {
      "display_name": "Python 3",
      "name": "python3"
    },
    "language_info": {
      "codemirror_mode": {
        "name": "ipython",
        "version": 3
      },
      "file_extension": ".py",
      "mimetype": "text/x-python",
      "name": "python",
      "nbconvert_exporter": "python",
      "pygments_lexer": "ipython3",
      "version": "3.9.7"
    }
  },
  "nbformat": 4,
  "nbformat_minor": 0
}
